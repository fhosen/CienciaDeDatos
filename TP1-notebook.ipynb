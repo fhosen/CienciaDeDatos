{
 "cells": [
  {
   "cell_type": "markdown",
   "metadata": {},
   "source": [
    "# TP1\n",
    "## Integrantes:\n",
    "    * Federico Hosen LU: 825/12\n",
    "    *\n",
    "    *"
   ]
  },
  {
   "cell_type": "markdown",
   "metadata": {},
   "source": [
    "### Imports y carga del archivo con los datos"
   ]
  },
  {
   "cell_type": "code",
   "execution_count": 19,
   "metadata": {},
   "outputs": [],
   "source": [
    "    import numpy as np\n",
    "    import matplotlib.pyplot as plt\n",
    "    import scipy.stats\n",
    "    import random\n",
    "\n",
    "    f1 = open(\"tiempo.txt\")\n",
    "    next(f1)\n",
    "    rawData = np.loadtxt(f1)\n"
   ]
  },
  {
   "cell_type": "markdown",
   "metadata": {},
   "source": [
    "### Gráfico con datos originales"
   ]
  },
  {
   "cell_type": "code",
   "execution_count": 20,
   "metadata": {},
   "outputs": [
    {
     "data": {
      "image/png": "[encoded data removed]",
      "text/plain": [
       "<matplotlib.figure.Figure at 0x7fcc2a673ac8>"
      ]
     },
     "metadata": {},
     "output_type": "display_data"
    }
   ],
   "source": [
    "for col in range(1,len(rawData[0])):\n",
    "    plt.scatter(range(len(rawData[:,col])), rawData[:,col])\n",
    "plt.ylabel(\"tiempo en segundos\")\n",
    "plt.xlabel(\"número del corredor\")\n",
    "plt.show()"
   ]
  },
  {
   "cell_type": "markdown",
   "metadata": {},
   "source": [
    "### Corrección de datos y gráfico con datos corregidos\n",
    "Notamos que en la séptima entrada de los datos, se encuentra un outlier, __189__ es el tiempo que tarda el corredor 7 en lluvia. Sin embargo el mínimo y el máximo son __18.2__ y __19.9__ respectivamente, por ésto creemos que el dato en cuestión fue un error humano al momento de la carga (*se omitió la coma*). Dado que contamos con pocos datos, decidimos corregirlo agregando la *coma faltante* y usar el dato en su totalidad (*toda la fila*) en contraposicón a desecharlo."
   ]
  },
  {
   "cell_type": "code",
   "execution_count": 21,
   "metadata": {
    "collapsed": true
   },
   "outputs": [],
   "source": [
    "    f2 = open(\"tiempo-corregido.txt\")\n",
    "    next(f2)\n",
    "    data = np.loadtxt(f2)"
   ]
  },
  {
   "cell_type": "code",
   "execution_count": 22,
   "metadata": {},
   "outputs": [
    {
     "data": {
      "image/png": "[encoded data removed]",
      "text/plain": [
       "<matplotlib.figure.Figure at 0x7fcc2a68aa58>"
      ]
     },
     "metadata": {},
     "output_type": "display_data"
    }
   ],
   "source": [
    "for col in range(1,len(data[0])):\n",
    "    plt.scatter(range(len(data[:,col])), data[:,col])\n",
    "plt.ylabel(\"tiempo en segundos\")\n",
    "plt.xlabel(\"número del corredor\")\n",
    "plt.show()"
   ]
  },
  {
   "cell_type": "markdown",
   "metadata": {},
   "source": [
    "### Un primer acercamiento\n",
    "Primeramente, notamos que después de la corrección los datos parecen tener más sentido en su totalidad, sin el outlier/error en el gráfico ya podemos empezar a analizarlos.\n",
    "\n",
    "Observamos dos cosas:\n",
    " * Parecería haber una dependencia entre los tiempos en sol, y nublados.\n",
    " * Los tiempos en lluvia se mueven en el mismo rango de valores para todos los corredores, y no parece guardar relación con los tiempos en sol o nublados."
   ]
  },
  {
   "cell_type": "markdown",
   "metadata": {},
   "source": [
    "### Test de independecia\n",
    "Queremos testear si los tiempos en lluvia son independientes a los tiempos en sol/nublado."
   ]
  },
  {
   "cell_type": "code",
   "execution_count": 4,
   "metadata": {},
   "outputs": [
    {
     "name": "stdout",
     "output_type": "stream",
     "text": [
      "[[ 1.          0.05258932]\n",
      " [ 0.05258932  1.        ]]\n",
      "[[ 1.          0.04228907]\n",
      " [ 0.04228907  1.        ]]\n"
     ]
    }
   ],
   "source": [
    "##Test de si el tiempo obtenido con lluvia es independiente del obtenido con sol/nublado\n",
    "print (np.corrcoef(data[:,1], data[:,3]))\n",
    "print (np.corrcoef(data[:,2], data[:,3]))"
   ]
  },
  {
   "cell_type": "code",
   "execution_count": null,
   "metadata": {
    "collapsed": true
   },
   "outputs": [],
   "source": []
  }
 ],
 "metadata": {
  "kernelspec": {
   "display_name": "Python 3",
   "language": "python",
   "name": "python3"
  },
  "language_info": {
   "codemirror_mode": {
    "name": "ipython",
    "version": 3
   },
   "file_extension": ".py",
   "mimetype": "text/x-python",
   "name": "python",
   "nbconvert_exporter": "python",
   "pygments_lexer": "ipython3",
   "version": "3.5.2"
  }
 },
 "nbformat": 4,
 "nbformat_minor": 2
}
