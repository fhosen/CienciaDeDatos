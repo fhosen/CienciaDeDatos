{
 "cells": [
  {
   "cell_type": "markdown",
   "metadata": {},
   "source": [
    "# TP1\n",
    "## Integrantes:\n",
    "    * Federico Hosen LU: 825/12\n",
    "    * Martín Fosco LU: 449/13\n",
    "    * Javier Minces LU: 231/13"
   ]
  },
  {
   "cell_type": "markdown",
   "metadata": {},
   "source": [
    "### Imports y carga del archivo con los datos"
   ]
  },
  {
   "cell_type": "code",
   "execution_count": 56,
   "metadata": {
    "collapsed": true
   },
   "outputs": [],
   "source": [
    "    import seaborn as sns\n",
    "    import numpy as np\n",
    "    import matplotlib.pyplot as plt\n",
    "    import scipy.stats\n",
    "    import random\n",
    "\n",
    "    f1 = open(\"tiempo.txt\")\n",
    "    next(f1)\n",
    "    rawData = np.loadtxt(f1)\n"
   ]
  },
  {
   "cell_type": "markdown",
   "metadata": {},
   "source": [
    "### Gráfico con datos originales"
   ]
  },
  {
   "cell_type": "code",
   "execution_count": 57,
   "metadata": {},
   "outputs": [
    {
     "data": {
      "image/png": "[encoded data removed]",
      "text/plain": [
       "<matplotlib.figure.Figure at 0x7f12c8da12e8>"
      ]
     },
     "metadata": {},
     "output_type": "display_data"
    }
   ],
   "source": [
    "colors = [\"red\", \"blue\", \"green\"]\n",
    "labels = [\"sol\", \"nublado\", \"lluvia\"]\n",
    "for col in range(1,len(rawData[0])):\n",
    "    plt.scatter(range(len(rawData[:,col])), rawData[:,col], color=colors[col-1], label = labels[col-1])\n",
    "plt.ylabel(\"tiempo en segundos\")\n",
    "plt.xlabel(\"número del corredor\")\n",
    "plt.legend()\n",
    "plt.xlim(-0.5, 16)\n",
    "plt.show()"
   ]
  },
  {
   "cell_type": "markdown",
   "metadata": {},
   "source": [
    "### Corrección de datos y gráfico con datos corregidos\n",
    "Notamos que en la séptima entrada de los datos, se encuentra un outlier, __189__ es el tiempo que tarda el corredor 7 en lluvia. Sin embargo el mínimo y el máximo son __18.2__ y __19.9__ respectivamente; por esto creemos que el dato en cuestión fue un error humano al momento de la carga (*se omitió la coma*). Dado que contamos con pocos datos, decidimos corregirlo agregando la *coma faltante* y usar el dato en su totalidad (*toda la fila*) en contraposicón a desecharlo."
   ]
  },
  {
   "cell_type": "code",
   "execution_count": 58,
   "metadata": {
    "collapsed": true
   },
   "outputs": [],
   "source": [
    "    f2 = open(\"tiempo-corregido.txt\")\n",
    "    next(f2)\n",
    "    data = np.loadtxt(f2)"
   ]
  },
  {
   "cell_type": "code",
   "execution_count": 59,
   "metadata": {
    "scrolled": false
   },
   "outputs": [
    {
     "data": {
      "image/png": "[encoded data removed]",
      "text/plain": [
       "<matplotlib.figure.Figure at 0x7f12c8bbab00>"
      ]
     },
     "metadata": {},
     "output_type": "display_data"
    }
   ],
   "source": [
    "colors = [\"red\", \"blue\", \"green\"]\n",
    "labels = [\"sol\", \"nublado\", \"lluvia\"]\n",
    "for col in range(1,len(data[0])):\n",
    "    plt.scatter(range(len(data[:,col])), data[:,col], color=colors[col-1], label = labels[col-1])\n",
    "plt.ylabel(\"tiempo en segundos\")\n",
    "plt.xlabel(\"número del corredor\")\n",
    "plt.legend()\n",
    "plt.xlim(-0.5, 16)\n",
    "plt.show()"
   ]
  },
  {
   "cell_type": "code",
   "execution_count": 60,
   "metadata": {},
   "outputs": [
    {
     "name": "stdout",
     "output_type": "stream",
     "text": [
      "Media Sol:  13.9083333333\n",
      "Media Nublado:  13.8666666667\n",
      "Media Lluvia:  18.9833333333\n"
     ]
    }
   ],
   "source": [
    "print(\"Media Sol: \", np.mean(data[:,1]))\n",
    "print(\"Media Nublado: \", np.mean(data[:,2]))\n",
    "print(\"Media Lluvia: \",np.mean(data[:,3]))"
   ]
  },
  {
   "cell_type": "markdown",
   "metadata": {},
   "source": [
    "### Un primer acercamiento\n",
    "Primeramente, notamos que después de la corrección los datos parecen tener más sentido en su totalidad; sin el outlier/error en el gráfico ya podemos empezar a analizarlos.\n",
    "\n",
    "Observamos dos cosas:\n",
    " * Parecería haber una dependencia entre los tiempos en sol, y nublados.\n",
    " * Los tiempos en lluvia se mueven en el mismo rango de valores para todos los corredores, y no parece guardar relación con los tiempos en sol o nublados."
   ]
  },
  {
   "cell_type": "markdown",
   "metadata": {},
   "source": [
    "### 1. Test de correlación de Pearson.\n",
    "\n",
    "Ya mencionamos que al observar los datos sospechamos que hay una fuerte relación entre los tiempos de sol y nublado, y también que ésta relación no parece estar entre nublado/sol y lluvia.\n",
    "\n",
    "Éstas serán nuestras dos hipótesis, y nos parece adecuado utilizar el test de correlación de Pearson para ver si los resultados de dicho test las refutan."
   ]
  },
  {
   "cell_type": "markdown",
   "metadata": {},
   "source": [
    "#### Resultados:\n",
    "Coeficiente de correlación de Pearson entre *sol* y *lluvia*. "
   ]
  },
  {
   "cell_type": "code",
   "execution_count": 61,
   "metadata": {},
   "outputs": [
    {
     "name": "stdout",
     "output_type": "stream",
     "text": [
      "0.0525893206142\n"
     ]
    }
   ],
   "source": [
    "print (np.corrcoef(data[:,1], data[:,3])[0][1])"
   ]
  },
  {
   "cell_type": "markdown",
   "metadata": {},
   "source": [
    "Coeficiente de correlación de Pearson entre *nublado* y *lluvia*."
   ]
  },
  {
   "cell_type": "code",
   "execution_count": 62,
   "metadata": {},
   "outputs": [
    {
     "name": "stdout",
     "output_type": "stream",
     "text": [
      "0.0422890660248\n"
     ]
    }
   ],
   "source": [
    "print (np.corrcoef(data[:,2], data[:,3])[0][1])"
   ]
  },
  {
   "cell_type": "markdown",
   "metadata": {},
   "source": [
    "Coeficiente de correlación de Pearson entre *sol* y *nublado*."
   ]
  },
  {
   "cell_type": "code",
   "execution_count": 63,
   "metadata": {},
   "outputs": [
    {
     "name": "stdout",
     "output_type": "stream",
     "text": [
      "0.990823776756\n"
     ]
    }
   ],
   "source": [
    "print (np.corrcoef(data[:,1], data[:,2])[0][1])"
   ]
  },
  {
   "cell_type": "markdown",
   "metadata": {},
   "source": [
    "#### Conclusión\n",
    "Tanto el coeficiente de sol con lluvia, y nublado con lluvia están muy cercanos a 0. De estos resultados interpretamos que dichos datos se condicen con nuestra primer hipótesis.\n",
    "\n",
    "Por otro lado, el nivel de relación entre sol y nublado parece ser muy alto, pues el valor del coeficiente es muy cercano a 1.\n"
   ]
  },
  {
   "cell_type": "markdown",
   "metadata": {},
   "source": [
    "## 2. Tests de apareamiento\n",
    "\n",
    "### A. Primer test\n",
    "A partir de los datos que se observan, sospechamos que los corredores tardan lo mismo en correr tanto en días nublados como en días soleados. Dicho ésto, consideramos la hipótesis de que las muestras de sol y nublado tienen una media similar. Dada las características de la muestra estamos en condiciones de realizar el test de apareamiento."
   ]
  },
  {
   "cell_type": "code",
   "execution_count": 64,
   "metadata": {},
   "outputs": [
    {
     "name": "stdout",
     "output_type": "stream",
     "text": [
      "Ttest_relResult(statistic=0.41213824986058739, pvalue=0.68815561156045579)\n"
     ]
    }
   ],
   "source": [
    "print (scipy.stats.ttest_rel(data[:,1], data[:,2]))"
   ]
  },
  {
   "cell_type": "markdown",
   "metadata": {},
   "source": [
    "#### Conclusión\n",
    "Dado que el pvalor es bastante alto, no podemos rechazar la hipótesis."
   ]
  },
  {
   "cell_type": "markdown",
   "metadata": {},
   "source": [
    "### B. Segundo test\n",
    "Para reforzar nuestra hipótesis de que hay poca relación entre los tiempos de sol/nublado y lluvia vamos a suponer lo contrario, vamos a suponer que la media de ambos tipos de día están relacionados y realizar un test de apareamiento."
   ]
  },
  {
   "cell_type": "code",
   "execution_count": 65,
   "metadata": {},
   "outputs": [
    {
     "name": "stdout",
     "output_type": "stream",
     "text": [
      "Ttest_relResult(statistic=-8.576227572594302, pvalue=3.3516511607218045e-06)\n",
      "Ttest_relResult(statistic=-9.7201289951570811, pvalue=9.8103994928779318e-07)\n"
     ]
    }
   ],
   "source": [
    "print (scipy.stats.ttest_rel(data[:,1], data[:,3]))\n",
    "print (scipy.stats.ttest_rel(data[:,2], data[:,3]))"
   ]
  },
  {
   "cell_type": "markdown",
   "metadata": {},
   "source": [
    "#### Conclusión\n",
    "Dado que el p-valor se encuentra considerablemente por debajo del umbral típico adoptado (0.05) en ambos casos, estamos en condiciones de rechazar la hipótesis nula, es decir, que tienen una media similar."
   ]
  },
  {
   "cell_type": "markdown",
   "metadata": {},
   "source": [
    "## 3. Test de permutaciones\n",
    "\n",
    "Notamos, además, que la velocidad de los atletas en días de lluvia parece mantenerse relativamente baja más allá del atleta que se esté evaluando.\n",
    "\n",
    "Podríamos formular la hipótesis de que la velocidad de los atletas en días de lluvia no está relacionada con la velocidad de los atletas en otras condiciones (nublado/sol)."
   ]
  },
  {
   "cell_type": "code",
   "execution_count": 66,
   "metadata": {
    "collapsed": true
   },
   "outputs": [],
   "source": [
    "datos = data[:,1] + data[:,3]\n",
    "labels = [\"sol\"]*len(data[:,1]) + [\"lluvia\"]*len(data[:,3])\n",
    "\n",
    "delta0 = np.mean(data[:,1]) - np.mean(data[:,3])\n",
    "deltas = [delta0]\n",
    "for i in range(99999):\n",
    "    random.shuffle(labels)\n",
    "    meanSol = np.mean([datos[i] for i in range(len(datos)) if labels[i] == \"sol\"])\n",
    "    meanLluvia = np.mean([datos[i] for i in range(len(datos)) if labels[i] != \"sol\"])\n",
    "    deltas.append(meanSol - meanLluvia)\n"
   ]
  },
  {
   "cell_type": "code",
   "execution_count": 71,
   "metadata": {},
   "outputs": [
    {
     "name": "stdout",
     "output_type": "stream",
     "text": [
      "delta0:  -5.075\n"
     ]
    },
    {
     "data": {
      "image/png": "[encoded data removed]",
      "text/plain": [
       "<matplotlib.figure.Figure at 0x7f12c9323630>"
      ]
     },
     "metadata": {},
     "output_type": "display_data"
    },
    {
     "name": "stdout",
     "output_type": "stream",
     "text": [
      "p: 1e-05\n"
     ]
    }
   ],
   "source": [
    "print(\"delta0: \",delta0)\n",
    "plt.hist(deltas)\n",
    "plt.axvline(delta0, color='r')\n",
    "plt.show()\n",
    "\n",
    "print(\"p:\", len([delta for delta in deltas if delta <= delta0])/len(deltas))"
   ]
  },
  {
   "cell_type": "markdown",
   "metadata": {},
   "source": [
    "El histograma representa la diferencia de las medias distribuyendo aleatoriamente las etiquetas de día nublado y soleado. La línea roja es el delta<sub>0</sub>"
   ]
  },
  {
   "cell_type": "markdown",
   "metadata": {},
   "source": [
    "#### Conclusiones\n",
    "\n",
    "Por lo que vemos, la probabilidad de que la muestra original provenga de una distribución aleatoria es bastante baja; en consecuencia, no podemos rechazar la hipótesis."
   ]
  },
  {
   "cell_type": "markdown",
   "metadata": {},
   "source": [
    "## 4. Test de medias independientes"
   ]
  },
  {
   "cell_type": "code",
   "execution_count": 68,
   "metadata": {},
   "outputs": [
    {
     "name": "stdout",
     "output_type": "stream",
     "text": [
      "Ttest_indResult(statistic=-8.4828396056353661, pvalue=2.2013598111131482e-08)\n"
     ]
    }
   ],
   "source": [
    "print(scipy.stats.ttest_ind(data[:,1], data[:,3]))"
   ]
  },
  {
   "cell_type": "markdown",
   "metadata": {},
   "source": [
    "### Conclusión\n",
    "Como el p-valor es extremadamente bajo, podemos decir que las medias de tiempos de lluvia y sol son distintas."
   ]
  },
  {
   "cell_type": "markdown",
   "metadata": {},
   "source": [
    "## Conclusiones generales\n",
    "\n",
    "A continuación vamos contestar acerca de las conclusiones propuestas por el enunciado si consideramos que se pueden extraer o rechazar a partir de los datos.\n",
    "\n",
    "#### Los atletas son más lentos en dı́as de lluvia que en dı́as soleados.\n",
    "\n",
    "Creemos que esta conclusión se puede extraer de los datos. En principio, al observar los datos se observa que los tiempos de lluvia están por encima del resto. Basándonos en los tests, en __4.__ vimos que las medias son distintas, además la media de sol calculada de los datos es significativamente menor a la media de lluvia, con lo cual podemos concluir que __los atletas son mas lentos en días de lluvia que en días soleados.__\n",
    "\n",
    "#### El cielo nublado no influye en los tiempos de los atletas.\n",
    "\n",
    "En principio vimos en __2.A__ que las medias son similares, y además las muestras están corrrelacionadas por el test de correlación de Pearson. Por lo tanto podemos observar que los tiempos de los atletas, en general, no parecen ser afectados por el clima nublado.\n",
    "\n",
    "#### La velocidad en días de lluvia es independiente del atleta.\n",
    "\n",
    "Ésto se puede extraer directamente del test __3.__ .\n",
    "\n",
    "#### El clima influye en la velocidad de los atletas.\n",
    "Para analizar esta conclusión deberíamos hacer una diferenciación: no influye de la misma forma que esté nublado o que esté lloviendo.\n",
    "\n",
    "Dicho esto, como vimos en las conclusiones anteriores, __los atletas son mas lentos en días de lluvia que en días soleados__ y además __el cielo nublado no influye en los tiempos de los atletas__, luego es verdad que __el clima influye en la velocidad de los atletas__."
   ]
  },
  {
   "cell_type": "markdown",
   "metadata": {},
   "source": [
    "\n",
    "### Consejos al entrenador:\n",
    "Consideramos que con los datos actuales no es posible contestar la pregunta de quién tiene razón, pues no tenemos datos que relacionen el entrenamiento bajo lluvia de un corredor con su performance en la pista. Desconocemos el impacto que tienen.\n",
    "\n",
    "Para dirimir la cuestión, proponemos el siguiente experimento:\n",
    "Los corredores entrenan para mejorar sus tiempos en general (sin importar la condición climática).\n",
    "Se propone el siguiente experimento para medir el impacto del entrenamiento bajo lluvia en la performance en la pista:\n",
    "   * Se toman dos grupos de corredores, A y B.\n",
    "   * Se toman muestras como las expuestas en el enunciado (sol, nublado y lluvia).\n",
    "   * El grupo A se entrenará mucho bajo lluvia, mientras que el grupo B hará el entrenamiento habitual.\n",
    "   * Luego de un tiempo adecuado se volverán a tomar muestras.\n",
    "\n",
    "De los resultados nos interesará analizar cuánto mejoró cada grupo en los tiempos de sol. Si el grupo A muestra una mejoría mayor (de forma significativa) entonces el entrenador tendrá razón y si no se muestra una mejora significativa, entonces los corredores tendrán razón."
   ]
  },
  {
   "cell_type": "code",
   "execution_count": null,
   "metadata": {
    "collapsed": true
   },
   "outputs": [],
   "source": []
  }
 ],
 "metadata": {
  "kernelspec": {
   "display_name": "Python 2",
   "language": "python",
   "name": "python2"
  },
  "language_info": {
   "codemirror_mode": {
    "name": "ipython",
    "version": 2
   },
   "file_extension": ".py",
   "mimetype": "text/x-python",
   "name": "python",
   "nbconvert_exporter": "python",
   "pygments_lexer": "ipython2",
   "version": "2.7.12+"
  }
 },
 "nbformat": 4,
 "nbformat_minor": 2
}
