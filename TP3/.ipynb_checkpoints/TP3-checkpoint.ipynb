{
 "cells": [
  {
   "cell_type": "raw",
   "metadata": {},
   "source": [
    "Enunciado: https://gist.github.com/fraimondo/57990372c3c8a87c2c1bd290bffaa46f"
   ]
  },
  {
   "cell_type": "markdown",
   "metadata": {},
   "source": [
    "## TP3\n",
    "\n",
    "Integrantes:\n",
    "* Martín Fosco LU: 449/13\n",
    "* Javier Minces LU: 231/13"
   ]
  },
  {
   "cell_type": "markdown",
   "metadata": {},
   "source": [
    "### Imports"
   ]
  },
  {
   "cell_type": "code",
   "execution_count": 77,
   "metadata": {
    "collapsed": true
   },
   "outputs": [],
   "source": [
    "import scipy.signal as sig\n",
    "import pandas as pd\n",
    "import scipy.io as sio\n",
    "import matplotlib.pyplot as plt\n",
    "import numpy as np\n",
    "import scipy\n",
    "import math\n",
    "import sklearn as sck\n",
    "from sklearn import metrics"
   ]
  },
  {
   "cell_type": "markdown",
   "metadata": {
    "collapsed": true
   },
   "source": [
    "### 1"
   ]
  },
  {
   "cell_type": "code",
   "execution_count": 79,
   "metadata": {
    "collapsed": true
   },
   "outputs": [],
   "source": [
    "bandas = [0, 4, 8, 13, 30, 45]\n",
    "nombres_bandas = [\"alpha\", \"beta\", \"gamma\", \"theta\", \"delta\"]\n",
    "pacientes = [\"../TP2/\" + l + str(i).zfill(2) + \".mat\" for i in range(1,11) for l in \"PS\"]\n",
    "\n",
    "df_arrays = []\n",
    "indices = [[], []]\n",
    "for paciente in pacientes:\n",
    "    test = sio.loadmat(paciente)[\"data\"]\n",
    "    avg1 = np.mean(test, axis = 1)\n",
    "    for epoch in range(len(avg1)):\n",
    "        epochData = avg1[epoch]\n",
    "        freq, pot = sig.welch(epochData, fs = 250, nfft = 2048)\n",
    "        array_de_banda = []\n",
    "        for i in range(len(bandas) -1):\n",
    "            inicio = bandas[i] \n",
    "            fin = bandas[i+1]\n",
    "            suma = sum([pot[i] for i in range(len(pot)) if freq[i] >= inicio and freq[i] < fin])\n",
    "            #bandaspaciente[paciente][epoch].append(suma)\n",
    "            array_de_banda.append(suma)\n",
    "        indices[0].append(paciente[7: 10])\n",
    "        indices[1].append(epoch)\n",
    "        df_arrays.append(array_de_banda)\n",
    "    \n",
    "        \n",
    "df_posta = pd.DataFrame(df_arrays, index = indices)"
   ]
  },
  {
   "cell_type": "code",
   "execution_count": 171,
   "metadata": {},
   "outputs": [
    {
     "data": {
      "text/html": [
       "<div>\n",
       "<style>\n",
       "    .dataframe thead tr:only-child th {\n",
       "        text-align: right;\n",
       "    }\n",
       "\n",
       "    .dataframe thead th {\n",
       "        text-align: left;\n",
       "    }\n",
       "\n",
       "    .dataframe tbody tr th {\n",
       "        vertical-align: top;\n",
       "    }\n",
       "</style>\n",
       "<table border=\"1\" class=\"dataframe\">\n",
       "  <thead>\n",
       "    <tr style=\"text-align: right;\">\n",
       "      <th></th>\n",
       "      <th>0 mean</th>\n",
       "      <th>1 mean</th>\n",
       "      <th>2 mean</th>\n",
       "      <th>3 mean</th>\n",
       "      <th>4 mean</th>\n",
       "      <th>0 sd</th>\n",
       "      <th>1 sd</th>\n",
       "      <th>2 sd</th>\n",
       "      <th>3 sd</th>\n",
       "      <th>4 sd</th>\n",
       "      <th>0</th>\n",
       "      <th>1</th>\n",
       "      <th>2</th>\n",
       "      <th>3</th>\n",
       "      <th>4</th>\n",
       "      <th>0 sd_norm</th>\n",
       "      <th>1 sd_norm</th>\n",
       "      <th>2 sd_norm</th>\n",
       "      <th>3 sd_norm</th>\n",
       "      <th>4 sd_norm</th>\n",
       "    </tr>\n",
       "  </thead>\n",
       "  <tbody>\n",
       "    <tr>\n",
       "      <th>P01</th>\n",
       "      <td>6.474048e-13</td>\n",
       "      <td>1.100986e-13</td>\n",
       "      <td>4.915512e-14</td>\n",
       "      <td>1.215176e-13</td>\n",
       "      <td>1.079005e-13</td>\n",
       "      <td>8.438173e-13</td>\n",
       "      <td>1.085643e-13</td>\n",
       "      <td>4.300826e-14</td>\n",
       "      <td>1.762332e-13</td>\n",
       "      <td>2.364435e-13</td>\n",
       "      <td>0.562846</td>\n",
       "      <td>0.141507</td>\n",
       "      <td>0.068600</td>\n",
       "      <td>0.133655</td>\n",
       "      <td>0.093391</td>\n",
       "      <td>0.255662</td>\n",
       "      <td>0.113970</td>\n",
       "      <td>0.060397</td>\n",
       "      <td>0.116634</td>\n",
       "      <td>0.137950</td>\n",
       "    </tr>\n",
       "    <tr>\n",
       "      <th>P02</th>\n",
       "      <td>1.773805e-12</td>\n",
       "      <td>4.384172e-13</td>\n",
       "      <td>3.845398e-14</td>\n",
       "      <td>4.190222e-14</td>\n",
       "      <td>2.872480e-14</td>\n",
       "      <td>1.561659e-12</td>\n",
       "      <td>4.418096e-13</td>\n",
       "      <td>3.609953e-14</td>\n",
       "      <td>3.390900e-14</td>\n",
       "      <td>3.185065e-14</td>\n",
       "      <td>0.693425</td>\n",
       "      <td>0.236993</td>\n",
       "      <td>0.024343</td>\n",
       "      <td>0.027019</td>\n",
       "      <td>0.018220</td>\n",
       "      <td>0.231751</td>\n",
       "      <td>0.203750</td>\n",
       "      <td>0.027736</td>\n",
       "      <td>0.029916</td>\n",
       "      <td>0.024715</td>\n",
       "    </tr>\n",
       "    <tr>\n",
       "      <th>P03</th>\n",
       "      <td>4.802599e-13</td>\n",
       "      <td>3.555275e-14</td>\n",
       "      <td>1.217894e-14</td>\n",
       "      <td>9.120573e-15</td>\n",
       "      <td>5.476067e-15</td>\n",
       "      <td>5.234544e-13</td>\n",
       "      <td>2.733030e-14</td>\n",
       "      <td>9.021652e-15</td>\n",
       "      <td>6.819887e-15</td>\n",
       "      <td>4.865489e-15</td>\n",
       "      <td>0.785837</td>\n",
       "      <td>0.113357</td>\n",
       "      <td>0.044831</td>\n",
       "      <td>0.034478</td>\n",
       "      <td>0.021497</td>\n",
       "      <td>0.173345</td>\n",
       "      <td>0.101005</td>\n",
       "      <td>0.051125</td>\n",
       "      <td>0.035898</td>\n",
       "      <td>0.026825</td>\n",
       "    </tr>\n",
       "    <tr>\n",
       "      <th>P04</th>\n",
       "      <td>7.785647e-14</td>\n",
       "      <td>2.989911e-14</td>\n",
       "      <td>6.859796e-15</td>\n",
       "      <td>2.399459e-15</td>\n",
       "      <td>7.913585e-16</td>\n",
       "      <td>1.005892e-13</td>\n",
       "      <td>2.557905e-14</td>\n",
       "      <td>6.603214e-15</td>\n",
       "      <td>2.000155e-15</td>\n",
       "      <td>1.023748e-15</td>\n",
       "      <td>0.554814</td>\n",
       "      <td>0.318967</td>\n",
       "      <td>0.083831</td>\n",
       "      <td>0.031548</td>\n",
       "      <td>0.010840</td>\n",
       "      <td>0.232626</td>\n",
       "      <td>0.191334</td>\n",
       "      <td>0.079399</td>\n",
       "      <td>0.030493</td>\n",
       "      <td>0.015844</td>\n",
       "    </tr>\n",
       "    <tr>\n",
       "      <th>P05</th>\n",
       "      <td>2.227245e-12</td>\n",
       "      <td>3.278892e-13</td>\n",
       "      <td>1.387457e-13</td>\n",
       "      <td>5.098322e-13</td>\n",
       "      <td>4.054396e-13</td>\n",
       "      <td>2.226175e-12</td>\n",
       "      <td>2.395002e-13</td>\n",
       "      <td>9.170506e-14</td>\n",
       "      <td>3.405645e-13</td>\n",
       "      <td>3.364389e-13</td>\n",
       "      <td>0.540464</td>\n",
       "      <td>0.111245</td>\n",
       "      <td>0.049036</td>\n",
       "      <td>0.168984</td>\n",
       "      <td>0.130271</td>\n",
       "      <td>0.214912</td>\n",
       "      <td>0.086591</td>\n",
       "      <td>0.036578</td>\n",
       "      <td>0.105956</td>\n",
       "      <td>0.095373</td>\n",
       "    </tr>\n",
       "    <tr>\n",
       "      <th>P06</th>\n",
       "      <td>4.480578e-14</td>\n",
       "      <td>5.796897e-15</td>\n",
       "      <td>2.947436e-15</td>\n",
       "      <td>2.015353e-15</td>\n",
       "      <td>4.322217e-16</td>\n",
       "      <td>8.385846e-14</td>\n",
       "      <td>8.323683e-15</td>\n",
       "      <td>2.714622e-15</td>\n",
       "      <td>2.710343e-15</td>\n",
       "      <td>5.937101e-16</td>\n",
       "      <td>0.674253</td>\n",
       "      <td>0.156720</td>\n",
       "      <td>0.090712</td>\n",
       "      <td>0.065685</td>\n",
       "      <td>0.012630</td>\n",
       "      <td>0.197511</td>\n",
       "      <td>0.119511</td>\n",
       "      <td>0.081611</td>\n",
       "      <td>0.066776</td>\n",
       "      <td>0.014145</td>\n",
       "    </tr>\n",
       "    <tr>\n",
       "      <th>P07</th>\n",
       "      <td>8.341240e-13</td>\n",
       "      <td>1.603714e-13</td>\n",
       "      <td>3.414281e-14</td>\n",
       "      <td>7.011479e-14</td>\n",
       "      <td>4.038596e-14</td>\n",
       "      <td>7.903372e-13</td>\n",
       "      <td>1.501119e-13</td>\n",
       "      <td>2.774715e-14</td>\n",
       "      <td>4.887120e-14</td>\n",
       "      <td>3.858830e-14</td>\n",
       "      <td>0.647684</td>\n",
       "      <td>0.160678</td>\n",
       "      <td>0.043964</td>\n",
       "      <td>0.094887</td>\n",
       "      <td>0.052786</td>\n",
       "      <td>0.194662</td>\n",
       "      <td>0.112323</td>\n",
       "      <td>0.040027</td>\n",
       "      <td>0.083938</td>\n",
       "      <td>0.053647</td>\n",
       "    </tr>\n",
       "    <tr>\n",
       "      <th>P08</th>\n",
       "      <td>9.140278e-13</td>\n",
       "      <td>1.924867e-13</td>\n",
       "      <td>2.798522e-14</td>\n",
       "      <td>2.311164e-14</td>\n",
       "      <td>1.043328e-14</td>\n",
       "      <td>1.454132e-12</td>\n",
       "      <td>2.609050e-13</td>\n",
       "      <td>3.124653e-14</td>\n",
       "      <td>2.745740e-14</td>\n",
       "      <td>1.940317e-14</td>\n",
       "      <td>0.663010</td>\n",
       "      <td>0.232114</td>\n",
       "      <td>0.049191</td>\n",
       "      <td>0.040467</td>\n",
       "      <td>0.015218</td>\n",
       "      <td>0.219839</td>\n",
       "      <td>0.171706</td>\n",
       "      <td>0.054306</td>\n",
       "      <td>0.045862</td>\n",
       "      <td>0.020046</td>\n",
       "    </tr>\n",
       "    <tr>\n",
       "      <th>P09</th>\n",
       "      <td>2.784133e-11</td>\n",
       "      <td>6.505424e-12</td>\n",
       "      <td>1.929685e-12</td>\n",
       "      <td>5.258367e-12</td>\n",
       "      <td>3.866779e-12</td>\n",
       "      <td>5.005802e-11</td>\n",
       "      <td>9.166444e-12</td>\n",
       "      <td>2.284302e-12</td>\n",
       "      <td>3.668938e-12</td>\n",
       "      <td>3.164736e-12</td>\n",
       "      <td>0.475314</td>\n",
       "      <td>0.155359</td>\n",
       "      <td>0.054890</td>\n",
       "      <td>0.179677</td>\n",
       "      <td>0.134761</td>\n",
       "      <td>0.231364</td>\n",
       "      <td>0.116943</td>\n",
       "      <td>0.042868</td>\n",
       "      <td>0.122528</td>\n",
       "      <td>0.105200</td>\n",
       "    </tr>\n",
       "    <tr>\n",
       "      <th>P10</th>\n",
       "      <td>8.970983e-15</td>\n",
       "      <td>2.895932e-15</td>\n",
       "      <td>8.947480e-16</td>\n",
       "      <td>8.537944e-16</td>\n",
       "      <td>4.169272e-16</td>\n",
       "      <td>8.657445e-15</td>\n",
       "      <td>2.358702e-15</td>\n",
       "      <td>8.198046e-16</td>\n",
       "      <td>1.489474e-15</td>\n",
       "      <td>1.181577e-15</td>\n",
       "      <td>0.586206</td>\n",
       "      <td>0.240692</td>\n",
       "      <td>0.082040</td>\n",
       "      <td>0.064703</td>\n",
       "      <td>0.026358</td>\n",
       "      <td>0.212920</td>\n",
       "      <td>0.155263</td>\n",
       "      <td>0.069704</td>\n",
       "      <td>0.063442</td>\n",
       "      <td>0.046208</td>\n",
       "    </tr>\n",
       "    <tr>\n",
       "      <th>S01</th>\n",
       "      <td>1.880655e-14</td>\n",
       "      <td>3.908606e-15</td>\n",
       "      <td>4.266606e-15</td>\n",
       "      <td>4.909079e-15</td>\n",
       "      <td>1.898812e-15</td>\n",
       "      <td>2.067217e-14</td>\n",
       "      <td>3.022653e-15</td>\n",
       "      <td>3.926326e-15</td>\n",
       "      <td>3.024347e-15</td>\n",
       "      <td>1.172061e-15</td>\n",
       "      <td>0.471459</td>\n",
       "      <td>0.130957</td>\n",
       "      <td>0.143718</td>\n",
       "      <td>0.180553</td>\n",
       "      <td>0.073313</td>\n",
       "      <td>0.210396</td>\n",
       "      <td>0.087306</td>\n",
       "      <td>0.109130</td>\n",
       "      <td>0.110966</td>\n",
       "      <td>0.053355</td>\n",
       "    </tr>\n",
       "    <tr>\n",
       "      <th>S02</th>\n",
       "      <td>6.450044e-15</td>\n",
       "      <td>3.096691e-15</td>\n",
       "      <td>2.323775e-14</td>\n",
       "      <td>2.773872e-15</td>\n",
       "      <td>3.656033e-16</td>\n",
       "      <td>1.211785e-14</td>\n",
       "      <td>2.701970e-15</td>\n",
       "      <td>1.585157e-14</td>\n",
       "      <td>1.397167e-15</td>\n",
       "      <td>1.968965e-16</td>\n",
       "      <td>0.179663</td>\n",
       "      <td>0.099986</td>\n",
       "      <td>0.609744</td>\n",
       "      <td>0.097043</td>\n",
       "      <td>0.013564</td>\n",
       "      <td>0.151892</td>\n",
       "      <td>0.076632</td>\n",
       "      <td>0.193508</td>\n",
       "      <td>0.068823</td>\n",
       "      <td>0.010953</td>\n",
       "    </tr>\n",
       "    <tr>\n",
       "      <th>S03</th>\n",
       "      <td>1.905026e-14</td>\n",
       "      <td>9.470335e-15</td>\n",
       "      <td>2.214019e-14</td>\n",
       "      <td>6.356818e-15</td>\n",
       "      <td>1.118938e-15</td>\n",
       "      <td>2.885271e-14</td>\n",
       "      <td>8.637816e-15</td>\n",
       "      <td>1.906037e-14</td>\n",
       "      <td>3.337399e-15</td>\n",
       "      <td>1.654006e-15</td>\n",
       "      <td>0.304910</td>\n",
       "      <td>0.175176</td>\n",
       "      <td>0.366726</td>\n",
       "      <td>0.130454</td>\n",
       "      <td>0.022733</td>\n",
       "      <td>0.180541</td>\n",
       "      <td>0.110722</td>\n",
       "      <td>0.186222</td>\n",
       "      <td>0.074424</td>\n",
       "      <td>0.016213</td>\n",
       "    </tr>\n",
       "    <tr>\n",
       "      <th>S04</th>\n",
       "      <td>1.407961e-13</td>\n",
       "      <td>3.990715e-14</td>\n",
       "      <td>7.672114e-14</td>\n",
       "      <td>4.399988e-14</td>\n",
       "      <td>1.958036e-14</td>\n",
       "      <td>2.208845e-13</td>\n",
       "      <td>3.162826e-14</td>\n",
       "      <td>5.955921e-14</td>\n",
       "      <td>4.153069e-14</td>\n",
       "      <td>2.986559e-14</td>\n",
       "      <td>0.356748</td>\n",
       "      <td>0.143513</td>\n",
       "      <td>0.269945</td>\n",
       "      <td>0.162383</td>\n",
       "      <td>0.067411</td>\n",
       "      <td>0.202073</td>\n",
       "      <td>0.090268</td>\n",
       "      <td>0.157605</td>\n",
       "      <td>0.096701</td>\n",
       "      <td>0.055972</td>\n",
       "    </tr>\n",
       "    <tr>\n",
       "      <th>S05</th>\n",
       "      <td>3.942853e-15</td>\n",
       "      <td>1.501019e-15</td>\n",
       "      <td>9.203497e-16</td>\n",
       "      <td>6.325809e-16</td>\n",
       "      <td>1.242988e-16</td>\n",
       "      <td>7.054544e-15</td>\n",
       "      <td>2.250474e-15</td>\n",
       "      <td>8.850051e-16</td>\n",
       "      <td>3.643057e-16</td>\n",
       "      <td>7.148658e-17</td>\n",
       "      <td>0.442788</td>\n",
       "      <td>0.229923</td>\n",
       "      <td>0.165124</td>\n",
       "      <td>0.134398</td>\n",
       "      <td>0.027767</td>\n",
       "      <td>0.222301</td>\n",
       "      <td>0.142758</td>\n",
       "      <td>0.123957</td>\n",
       "      <td>0.092500</td>\n",
       "      <td>0.022763</td>\n",
       "    </tr>\n",
       "    <tr>\n",
       "      <th>S06</th>\n",
       "      <td>6.617083e-15</td>\n",
       "      <td>3.771079e-15</td>\n",
       "      <td>1.157717e-14</td>\n",
       "      <td>4.351877e-15</td>\n",
       "      <td>1.363767e-15</td>\n",
       "      <td>8.962661e-15</td>\n",
       "      <td>3.315547e-15</td>\n",
       "      <td>1.590055e-14</td>\n",
       "      <td>4.267090e-15</td>\n",
       "      <td>2.321233e-15</td>\n",
       "      <td>0.260516</td>\n",
       "      <td>0.162381</td>\n",
       "      <td>0.357820</td>\n",
       "      <td>0.169216</td>\n",
       "      <td>0.050067</td>\n",
       "      <td>0.187471</td>\n",
       "      <td>0.116196</td>\n",
       "      <td>0.232432</td>\n",
       "      <td>0.096268</td>\n",
       "      <td>0.056216</td>\n",
       "    </tr>\n",
       "    <tr>\n",
       "      <th>S07</th>\n",
       "      <td>3.592380e-13</td>\n",
       "      <td>3.598354e-14</td>\n",
       "      <td>1.673610e-13</td>\n",
       "      <td>3.942976e-14</td>\n",
       "      <td>1.564872e-14</td>\n",
       "      <td>4.593858e-13</td>\n",
       "      <td>3.503169e-14</td>\n",
       "      <td>1.153581e-13</td>\n",
       "      <td>1.810496e-14</td>\n",
       "      <td>9.823658e-15</td>\n",
       "      <td>0.436663</td>\n",
       "      <td>0.067217</td>\n",
       "      <td>0.362529</td>\n",
       "      <td>0.097419</td>\n",
       "      <td>0.036172</td>\n",
       "      <td>0.271941</td>\n",
       "      <td>0.050668</td>\n",
       "      <td>0.229481</td>\n",
       "      <td>0.069087</td>\n",
       "      <td>0.028358</td>\n",
       "    </tr>\n",
       "    <tr>\n",
       "      <th>S08</th>\n",
       "      <td>1.042728e-13</td>\n",
       "      <td>4.343361e-14</td>\n",
       "      <td>1.116742e-13</td>\n",
       "      <td>1.152507e-13</td>\n",
       "      <td>1.093373e-13</td>\n",
       "      <td>1.020050e-13</td>\n",
       "      <td>3.324641e-14</td>\n",
       "      <td>9.884164e-14</td>\n",
       "      <td>5.503409e-14</td>\n",
       "      <td>7.300681e-14</td>\n",
       "      <td>0.205831</td>\n",
       "      <td>0.092879</td>\n",
       "      <td>0.220208</td>\n",
       "      <td>0.248946</td>\n",
       "      <td>0.232136</td>\n",
       "      <td>0.138976</td>\n",
       "      <td>0.063463</td>\n",
       "      <td>0.143007</td>\n",
       "      <td>0.096981</td>\n",
       "      <td>0.115424</td>\n",
       "    </tr>\n",
       "    <tr>\n",
       "      <th>S09</th>\n",
       "      <td>1.120012e-10</td>\n",
       "      <td>6.497224e-11</td>\n",
       "      <td>5.699614e-11</td>\n",
       "      <td>5.429512e-11</td>\n",
       "      <td>6.678804e-12</td>\n",
       "      <td>2.626749e-10</td>\n",
       "      <td>6.783278e-11</td>\n",
       "      <td>5.673830e-11</td>\n",
       "      <td>5.612419e-11</td>\n",
       "      <td>4.036856e-12</td>\n",
       "      <td>0.364647</td>\n",
       "      <td>0.214136</td>\n",
       "      <td>0.206419</td>\n",
       "      <td>0.178901</td>\n",
       "      <td>0.035898</td>\n",
       "      <td>0.210057</td>\n",
       "      <td>0.105769</td>\n",
       "      <td>0.118615</td>\n",
       "      <td>0.085409</td>\n",
       "      <td>0.026219</td>\n",
       "    </tr>\n",
       "    <tr>\n",
       "      <th>S10</th>\n",
       "      <td>1.376087e-13</td>\n",
       "      <td>3.296064e-14</td>\n",
       "      <td>3.373834e-14</td>\n",
       "      <td>7.373032e-14</td>\n",
       "      <td>5.689929e-14</td>\n",
       "      <td>1.902295e-13</td>\n",
       "      <td>3.562626e-14</td>\n",
       "      <td>3.562406e-14</td>\n",
       "      <td>1.895677e-13</td>\n",
       "      <td>2.194484e-13</td>\n",
       "      <td>0.398713</td>\n",
       "      <td>0.122126</td>\n",
       "      <td>0.125273</td>\n",
       "      <td>0.215105</td>\n",
       "      <td>0.138784</td>\n",
       "      <td>0.220164</td>\n",
       "      <td>0.084121</td>\n",
       "      <td>0.094379</td>\n",
       "      <td>0.126121</td>\n",
       "      <td>0.105082</td>\n",
       "    </tr>\n",
       "  </tbody>\n",
       "</table>\n",
       "</div>"
      ],
      "text/plain": [
       "           0 mean        1 mean        2 mean        3 mean        4 mean  \\\n",
       "P01  6.474048e-13  1.100986e-13  4.915512e-14  1.215176e-13  1.079005e-13   \n",
       "P02  1.773805e-12  4.384172e-13  3.845398e-14  4.190222e-14  2.872480e-14   \n",
       "P03  4.802599e-13  3.555275e-14  1.217894e-14  9.120573e-15  5.476067e-15   \n",
       "P04  7.785647e-14  2.989911e-14  6.859796e-15  2.399459e-15  7.913585e-16   \n",
       "P05  2.227245e-12  3.278892e-13  1.387457e-13  5.098322e-13  4.054396e-13   \n",
       "P06  4.480578e-14  5.796897e-15  2.947436e-15  2.015353e-15  4.322217e-16   \n",
       "P07  8.341240e-13  1.603714e-13  3.414281e-14  7.011479e-14  4.038596e-14   \n",
       "P08  9.140278e-13  1.924867e-13  2.798522e-14  2.311164e-14  1.043328e-14   \n",
       "P09  2.784133e-11  6.505424e-12  1.929685e-12  5.258367e-12  3.866779e-12   \n",
       "P10  8.970983e-15  2.895932e-15  8.947480e-16  8.537944e-16  4.169272e-16   \n",
       "S01  1.880655e-14  3.908606e-15  4.266606e-15  4.909079e-15  1.898812e-15   \n",
       "S02  6.450044e-15  3.096691e-15  2.323775e-14  2.773872e-15  3.656033e-16   \n",
       "S03  1.905026e-14  9.470335e-15  2.214019e-14  6.356818e-15  1.118938e-15   \n",
       "S04  1.407961e-13  3.990715e-14  7.672114e-14  4.399988e-14  1.958036e-14   \n",
       "S05  3.942853e-15  1.501019e-15  9.203497e-16  6.325809e-16  1.242988e-16   \n",
       "S06  6.617083e-15  3.771079e-15  1.157717e-14  4.351877e-15  1.363767e-15   \n",
       "S07  3.592380e-13  3.598354e-14  1.673610e-13  3.942976e-14  1.564872e-14   \n",
       "S08  1.042728e-13  4.343361e-14  1.116742e-13  1.152507e-13  1.093373e-13   \n",
       "S09  1.120012e-10  6.497224e-11  5.699614e-11  5.429512e-11  6.678804e-12   \n",
       "S10  1.376087e-13  3.296064e-14  3.373834e-14  7.373032e-14  5.689929e-14   \n",
       "\n",
       "             0 sd          1 sd          2 sd          3 sd          4 sd  \\\n",
       "P01  8.438173e-13  1.085643e-13  4.300826e-14  1.762332e-13  2.364435e-13   \n",
       "P02  1.561659e-12  4.418096e-13  3.609953e-14  3.390900e-14  3.185065e-14   \n",
       "P03  5.234544e-13  2.733030e-14  9.021652e-15  6.819887e-15  4.865489e-15   \n",
       "P04  1.005892e-13  2.557905e-14  6.603214e-15  2.000155e-15  1.023748e-15   \n",
       "P05  2.226175e-12  2.395002e-13  9.170506e-14  3.405645e-13  3.364389e-13   \n",
       "P06  8.385846e-14  8.323683e-15  2.714622e-15  2.710343e-15  5.937101e-16   \n",
       "P07  7.903372e-13  1.501119e-13  2.774715e-14  4.887120e-14  3.858830e-14   \n",
       "P08  1.454132e-12  2.609050e-13  3.124653e-14  2.745740e-14  1.940317e-14   \n",
       "P09  5.005802e-11  9.166444e-12  2.284302e-12  3.668938e-12  3.164736e-12   \n",
       "P10  8.657445e-15  2.358702e-15  8.198046e-16  1.489474e-15  1.181577e-15   \n",
       "S01  2.067217e-14  3.022653e-15  3.926326e-15  3.024347e-15  1.172061e-15   \n",
       "S02  1.211785e-14  2.701970e-15  1.585157e-14  1.397167e-15  1.968965e-16   \n",
       "S03  2.885271e-14  8.637816e-15  1.906037e-14  3.337399e-15  1.654006e-15   \n",
       "S04  2.208845e-13  3.162826e-14  5.955921e-14  4.153069e-14  2.986559e-14   \n",
       "S05  7.054544e-15  2.250474e-15  8.850051e-16  3.643057e-16  7.148658e-17   \n",
       "S06  8.962661e-15  3.315547e-15  1.590055e-14  4.267090e-15  2.321233e-15   \n",
       "S07  4.593858e-13  3.503169e-14  1.153581e-13  1.810496e-14  9.823658e-15   \n",
       "S08  1.020050e-13  3.324641e-14  9.884164e-14  5.503409e-14  7.300681e-14   \n",
       "S09  2.626749e-10  6.783278e-11  5.673830e-11  5.612419e-11  4.036856e-12   \n",
       "S10  1.902295e-13  3.562626e-14  3.562406e-14  1.895677e-13  2.194484e-13   \n",
       "\n",
       "            0         1         2         3         4  0 sd_norm  1 sd_norm  \\\n",
       "P01  0.562846  0.141507  0.068600  0.133655  0.093391   0.255662   0.113970   \n",
       "P02  0.693425  0.236993  0.024343  0.027019  0.018220   0.231751   0.203750   \n",
       "P03  0.785837  0.113357  0.044831  0.034478  0.021497   0.173345   0.101005   \n",
       "P04  0.554814  0.318967  0.083831  0.031548  0.010840   0.232626   0.191334   \n",
       "P05  0.540464  0.111245  0.049036  0.168984  0.130271   0.214912   0.086591   \n",
       "P06  0.674253  0.156720  0.090712  0.065685  0.012630   0.197511   0.119511   \n",
       "P07  0.647684  0.160678  0.043964  0.094887  0.052786   0.194662   0.112323   \n",
       "P08  0.663010  0.232114  0.049191  0.040467  0.015218   0.219839   0.171706   \n",
       "P09  0.475314  0.155359  0.054890  0.179677  0.134761   0.231364   0.116943   \n",
       "P10  0.586206  0.240692  0.082040  0.064703  0.026358   0.212920   0.155263   \n",
       "S01  0.471459  0.130957  0.143718  0.180553  0.073313   0.210396   0.087306   \n",
       "S02  0.179663  0.099986  0.609744  0.097043  0.013564   0.151892   0.076632   \n",
       "S03  0.304910  0.175176  0.366726  0.130454  0.022733   0.180541   0.110722   \n",
       "S04  0.356748  0.143513  0.269945  0.162383  0.067411   0.202073   0.090268   \n",
       "S05  0.442788  0.229923  0.165124  0.134398  0.027767   0.222301   0.142758   \n",
       "S06  0.260516  0.162381  0.357820  0.169216  0.050067   0.187471   0.116196   \n",
       "S07  0.436663  0.067217  0.362529  0.097419  0.036172   0.271941   0.050668   \n",
       "S08  0.205831  0.092879  0.220208  0.248946  0.232136   0.138976   0.063463   \n",
       "S09  0.364647  0.214136  0.206419  0.178901  0.035898   0.210057   0.105769   \n",
       "S10  0.398713  0.122126  0.125273  0.215105  0.138784   0.220164   0.084121   \n",
       "\n",
       "     2 sd_norm  3 sd_norm  4 sd_norm  \n",
       "P01   0.060397   0.116634   0.137950  \n",
       "P02   0.027736   0.029916   0.024715  \n",
       "P03   0.051125   0.035898   0.026825  \n",
       "P04   0.079399   0.030493   0.015844  \n",
       "P05   0.036578   0.105956   0.095373  \n",
       "P06   0.081611   0.066776   0.014145  \n",
       "P07   0.040027   0.083938   0.053647  \n",
       "P08   0.054306   0.045862   0.020046  \n",
       "P09   0.042868   0.122528   0.105200  \n",
       "P10   0.069704   0.063442   0.046208  \n",
       "S01   0.109130   0.110966   0.053355  \n",
       "S02   0.193508   0.068823   0.010953  \n",
       "S03   0.186222   0.074424   0.016213  \n",
       "S04   0.157605   0.096701   0.055972  \n",
       "S05   0.123957   0.092500   0.022763  \n",
       "S06   0.232432   0.096268   0.056216  \n",
       "S07   0.229481   0.069087   0.028358  \n",
       "S08   0.143007   0.096981   0.115424  \n",
       "S09   0.118615   0.085409   0.026219  \n",
       "S10   0.094379   0.126121   0.105082  "
      ]
     },
     "execution_count": 171,
     "metadata": {},
     "output_type": "execute_result"
    }
   ],
   "source": [
    "df_norm = df_posta.div(df_posta.sum(axis=1), axis=0)\n",
    "\n",
    "means = df_posta.mean(axis = 0, level = 0)\n",
    "sd = df_posta.std(axis = 0, level = 0)\n",
    "means_norm = df_norm.mean(axis = 0, level = 0)\n",
    "sd_norm = df_norm.std(axis = 0, level = 0)\n",
    "\n",
    "features = means\n",
    "features = features.join(sd, lsuffix=' mean', rsuffix=' sd')\n",
    "features = features.join(means_norm, rsuffix=' mean_norm')\n",
    "features = features.join(sd_norm, rsuffix=' sd_norm')\n",
    "features\n",
    "\n"
   ]
  },
  {
   "cell_type": "code",
   "execution_count": 199,
   "metadata": {},
   "outputs": [
    {
     "data": {
      "image/png": "[encoded data removed]",
      "text/plain": [
       "<matplotlib.figure.Figure at 0x7fda9e9db5d0>"
      ]
     },
     "metadata": {},
     "output_type": "display_data"
    },
    {
     "name": "stdout",
     "output_type": "stream",
     "text": [
      "0.76\n"
     ]
    },
    {
     "data": {
      "image/png": "[encoded data removed]",
      "text/plain": [
       "<matplotlib.figure.Figure at 0x7fdaa405ed50>"
      ]
     },
     "metadata": {},
     "output_type": "display_data"
    },
    {
     "name": "stdout",
     "output_type": "stream",
     "text": [
      "0.74\n"
     ]
    },
    {
     "data": {
      "image/png": "[encoded data removed]",
      "text/plain": [
       "<matplotlib.figure.Figure at 0x7fdaa112ce10>"
      ]
     },
     "metadata": {},
     "output_type": "display_data"
    },
    {
     "name": "stdout",
     "output_type": "stream",
     "text": [
      "1.0\n"
     ]
    },
    {
     "data": {
      "image/png": "[encoded data removed]",
      "text/plain": [
       "<matplotlib.figure.Figure at 0x7fdaa0b3c410>"
      ]
     },
     "metadata": {},
     "output_type": "display_data"
    },
    {
     "name": "stdout",
     "output_type": "stream",
     "text": [
      "0.67\n"
     ]
    },
    {
     "data": {
      "image/png": "[encoded data removed]",
      "text/plain": [
       "<matplotlib.figure.Figure at 0x7fdaa115d650>"
      ]
     },
     "metadata": {},
     "output_type": "display_data"
    },
    {
     "name": "stdout",
     "output_type": "stream",
     "text": [
      "0.7\n"
     ]
    },
    {
     "data": {
      "image/png": "[encoded data removed]",
      "text/plain": [
       "<matplotlib.figure.Figure at 0x7fda9e8113d0>"
      ]
     },
     "metadata": {},
     "output_type": "display_data"
    },
    {
     "name": "stdout",
     "output_type": "stream",
     "text": [
      "0.69\n"
     ]
    },
    {
     "data": {
      "image/png": "[encoded data removed]",
      "text/plain": [
       "<matplotlib.figure.Figure at 0x7fdaa0e8e6d0>"
      ]
     },
     "metadata": {},
     "output_type": "display_data"
    },
    {
     "name": "stdout",
     "output_type": "stream",
     "text": [
      "0.69\n"
     ]
    },
    {
     "data": {
      "image/png": "[encoded data removed]",
      "text/plain": [
       "<matplotlib.figure.Figure at 0x7fda9ea1f910>"
      ]
     },
     "metadata": {},
     "output_type": "display_data"
    },
    {
     "name": "stdout",
     "output_type": "stream",
     "text": [
      "0.84\n"
     ]
    },
    {
     "data": {
      "image/png": "[encoded data removed]",
      "text/plain": [
       "<matplotlib.figure.Figure at 0x7fdaa3e40dd0>"
      ]
     },
     "metadata": {},
     "output_type": "display_data"
    },
    {
     "name": "stdout",
     "output_type": "stream",
     "text": [
      "0.46\n"
     ]
    },
    {
     "data": {
      "image/png": "[encoded data removed]",
      "text/plain": [
       "<matplotlib.figure.Figure at 0x7fdaa3e45410>"
      ]
     },
     "metadata": {},
     "output_type": "display_data"
    },
    {
     "name": "stdout",
     "output_type": "stream",
     "text": [
      "0.43\n"
     ]
    },
    {
     "data": {
      "image/png": "[encoded data removed]",
      "text/plain": [
       "<matplotlib.figure.Figure at 0x7fdaa0e9ac90>"
      ]
     },
     "metadata": {},
     "output_type": "display_data"
    },
    {
     "name": "stdout",
     "output_type": "stream",
     "text": [
      "0.0\n"
     ]
    },
    {
     "data": {
      "image/png": "[encoded data removed]",
      "text/plain": [
       "<matplotlib.figure.Figure at 0x7fda9e9a5990>"
      ]
     },
     "metadata": {},
     "output_type": "display_data"
    },
    {
     "name": "stdout",
     "output_type": "stream",
     "text": [
      "0.0\n"
     ]
    },
    {
     "data": {
      "image/png": "[encoded data removed]",
      "text/plain": [
       "<matplotlib.figure.Figure at 0x7fdaa0e9ab90>"
      ]
     },
     "metadata": {},
     "output_type": "display_data"
    },
    {
     "name": "stdout",
     "output_type": "stream",
     "text": [
      "0.53\n"
     ]
    },
    {
     "data": {
      "image/png": "[encoded data removed]",
      "text/plain": [
       "<matplotlib.figure.Figure at 0x7fdaa0b6c110>"
      ]
     },
     "metadata": {},
     "output_type": "display_data"
    },
    {
     "name": "stdout",
     "output_type": "stream",
     "text": [
      "0.56\n"
     ]
    },
    {
     "data": {
      "image/png": "[encoded data removed]",
      "text/plain": [
       "<matplotlib.figure.Figure at 0x7fdaa0ab45d0>"
      ]
     },
     "metadata": {},
     "output_type": "display_data"
    },
    {
     "name": "stdout",
     "output_type": "stream",
     "text": [
      "0.15\n"
     ]
    },
    {
     "data": {
      "image/png": "[encoded data removed]",
      "text/plain": [
       "<matplotlib.figure.Figure at 0x7fdaa0a92b50>"
      ]
     },
     "metadata": {},
     "output_type": "display_data"
    },
    {
     "name": "stdout",
     "output_type": "stream",
     "text": [
      "0.29\n"
     ]
    },
    {
     "data": {
      "image/png": "[encoded data removed]",
      "text/plain": [
       "<matplotlib.figure.Figure at 0x7fdaa0e80d90>"
      ]
     },
     "metadata": {},
     "output_type": "display_data"
    },
    {
     "name": "stdout",
     "output_type": "stream",
     "text": [
      "0.56\n"
     ]
    },
    {
     "data": {
      "image/png": "[encoded data removed]",
      "text/plain": [
       "<matplotlib.figure.Figure at 0x7fdaa3c7e210>"
      ]
     },
     "metadata": {},
     "output_type": "display_data"
    },
    {
     "name": "stdout",
     "output_type": "stream",
     "text": [
      "0.59\n"
     ]
    },
    {
     "data": {
      "image/png": "[encoded data removed]",
      "text/plain": [
       "<matplotlib.figure.Figure at 0x7fda9e792750>"
      ]
     },
     "metadata": {},
     "output_type": "display_data"
    },
    {
     "name": "stdout",
     "output_type": "stream",
     "text": [
      "0.35\n"
     ]
    },
    {
     "data": {
      "image/png": "[encoded data removed]",
      "text/plain": [
       "<matplotlib.figure.Figure at 0x7fda9e6f7f90>"
      ]
     },
     "metadata": {},
     "output_type": "display_data"
    },
    {
     "name": "stdout",
     "output_type": "stream",
     "text": [
      "0.49\n"
     ]
    }
   ],
   "source": [
    "nombres_paciente = [l + str(i).zfill(2) for l in \"PS\" for i in range(1,11)]\n",
    "\n",
    "for i in range(len(bandas)-1):\n",
    "    y_true = [n[0]==\"P\" for n in nombres_paciente]\n",
    "    y_score = [means.get_value(n, i) for n in nombres_paciente]\n",
    "    fpr, tpr, thresholds = metrics.roc_curve(y_true, y_score)\n",
    "    plt.plot(fpr, tpr)\n",
    "    plt.show()\n",
    "    print metrics.roc_auc_score(y_true, y_score)\n",
    "    \n",
    "    y_score = [sd.get_value(n, i) for n in nombres_paciente]\n",
    "    fpr, tpr, thresholds = metrics.roc_curve(y_true, y_score)\n",
    "    plt.plot(fpr, tpr)\n",
    "    plt.show()\n",
    "    print metrics.roc_auc_score(y_true, y_score)\n",
    "    \n",
    "    y_score = [means_norm.get_value(n, i) for n in nombres_paciente]\n",
    "    fpr, tpr, thresholds = metrics.roc_curve(y_true, y_score)\n",
    "    plt.plot(fpr, tpr)\n",
    "    plt.show()\n",
    "    print metrics.roc_auc_score(y_true, y_score)\n",
    "    \n",
    "    y_score = [sd_norm.get_value(n, i) for n in nombres_paciente]\n",
    "    fpr, tpr, thresholds = metrics.roc_curve(y_true, y_score)\n",
    "    plt.plot(fpr, tpr)\n",
    "    plt.show()\n",
    "    print metrics.roc_auc_score(y_true, y_score)"
   ]
  },
  {
   "cell_type": "markdown",
   "metadata": {},
   "source": [
    "### 2.1 b - Graficado ROC con cross validation sobre Logistic Regression"
   ]
  },
  {
   "cell_type": "code",
   "execution_count": 200,
   "metadata": {},
   "outputs": [
    {
     "data": {
      "image/png": "[encoded data removed]",
      "text/plain": [
       "<matplotlib.figure.Figure at 0x7fdaa0c1ca10>"
      ]
     },
     "metadata": {},
     "output_type": "display_data"
    },
    {
     "name": "stdout",
     "output_type": "stream",
     "text": [
      "1.0\n"
     ]
    },
    {
     "data": {
      "image/png": "[encoded data removed]",
      "text/plain": [
       "<matplotlib.figure.Figure at 0x7fda9e7dc9d0>"
      ]
     },
     "metadata": {},
     "output_type": "display_data"
    },
    {
     "name": "stdout",
     "output_type": "stream",
     "text": [
      "0.64\n"
     ]
    },
    {
     "data": {
      "image/png": "[encoded data removed]",
      "text/plain": [
       "<matplotlib.figure.Figure at 0x7fda9e870150>"
      ]
     },
     "metadata": {},
     "output_type": "display_data"
    },
    {
     "name": "stdout",
     "output_type": "stream",
     "text": [
      "0.99\n"
     ]
    },
    {
     "data": {
      "image/png": "[encoded data removed]",
      "text/plain": [
       "<matplotlib.figure.Figure at 0x7fda9e870410>"
      ]
     },
     "metadata": {},
     "output_type": "display_data"
    },
    {
     "name": "stdout",
     "output_type": "stream",
     "text": [
      "0.82\n"
     ]
    },
    {
     "data": {
      "image/png": "[encoded data removed]",
      "text/plain": [
       "<matplotlib.figure.Figure at 0x7fda9e814d10>"
      ]
     },
     "metadata": {},
     "output_type": "display_data"
    },
    {
     "name": "stdout",
     "output_type": "stream",
     "text": [
      "0.44\n"
     ]
    }
   ],
   "source": [
    "from sklearn import linear_model\n",
    "from sklearn import model_selection\n",
    "\n",
    "for i in range(5):\n",
    "    x = np.array([means_norm.get_value(n, i) for n in nombres_paciente])\n",
    "    y = np.array([n[0]==\"P\" for n in nombres_paciente])\n",
    "    x = x.reshape(-1,1)\n",
    "    estimator = linear_model.LogisticRegression()\n",
    "    result = model_selection.cross_val_predict(estimator, x, y, method = \"predict_proba\")\n",
    "    y_score = [r[1] for r in result]\n",
    "    fpr, tpr, thresholds = metrics.roc_curve(y, y_score)\n",
    "    plt.plot(fpr, tpr)\n",
    "    plt.show()\n",
    "    print metrics.roc_auc_score(y, y_score)\n"
   ]
  },
  {
   "cell_type": "markdown",
   "metadata": {},
   "source": [
    "### 2.2 a - Curva ROC sobre un Support Vector Machine"
   ]
  },
  {
   "cell_type": "code",
   "execution_count": 218,
   "metadata": {},
   "outputs": [
    {
     "name": "stdout",
     "output_type": "stream",
     "text": [
      "[ 0.   0.   0.2  0.2  0.3  0.3  0.7  0.7  1. ] [ 0.1  0.3  0.3  0.4  0.4  0.7  0.7  1.   1. ]\n"
     ]
    },
    {
     "data": {
      "image/png": "[encoded data removed]",
      "text/plain": [
       "<matplotlib.figure.Figure at 0x7fdaa0e49990>"
      ]
     },
     "metadata": {},
     "output_type": "display_data"
    },
    {
     "name": "stdout",
     "output_type": "stream",
     "text": [
      "0.68\n"
     ]
    }
   ],
   "source": [
    "from sklearn import svm\n",
    "from sklearn import model_selection\n",
    "\n",
    "x = features\n",
    "y = np.array([n[0]==\"P\" for n in nombres_paciente])\n",
    "estimator = svm.SVC(probability = True)\n",
    "result = model_selection.cross_val_predict(estimator, x, y, method = \"predict_proba\")\n",
    "#print result\n",
    "y_score = [r[0] for r in result]\n",
    "fpr, tpr, thresholds = metrics.roc_curve(y, y_score)\n",
    "print fpr, tpr\n",
    "plt.plot(fpr, tpr)\n",
    "plt.show()\n",
    "print metrics.roc_auc_score(y, y_score)\n"
   ]
  },
  {
   "cell_type": "markdown",
   "metadata": {},
   "source": [
    "### 2.2 b"
   ]
  },
  {
   "cell_type": "code",
   "execution_count": null,
   "metadata": {
    "collapsed": true
   },
   "outputs": [],
   "source": [
    "from sklearn import svm\n",
    "from sklearn import model_selection\n",
    "from sklearn.pipeline import Pipeline\n",
    "from sklearn.preprocessing import StandardScaler\n",
    "from sklearn.preprocessing import FeatureSelection\n",
    "\n",
    "\n"
   ]
  },
  {
   "cell_type": "code",
   "execution_count": null,
   "metadata": {
    "collapsed": true
   },
   "outputs": [],
   "source": []
  }
 ],
 "metadata": {
  "kernelspec": {
   "display_name": "Python 2",
   "language": "python",
   "name": "python2"
  },
  "language_info": {
   "codemirror_mode": {
    "name": "ipython",
    "version": 2
   },
   "file_extension": ".py",
   "mimetype": "text/x-python",
   "name": "python",
   "nbconvert_exporter": "python",
   "pygments_lexer": "ipython2",
   "version": "2.7.12+"
  }
 },
 "nbformat": 4,
 "nbformat_minor": 2
}
