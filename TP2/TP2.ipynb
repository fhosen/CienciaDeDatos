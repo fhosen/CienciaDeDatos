{
 "cells": [
  {
   "cell_type": "code",
   "execution_count": 70,
   "metadata": {},
   "outputs": [
    {
     "name": "stdout",
     "output_type": "stream",
     "text": [
      "{8: [6.2730851248187479e-06], 80: [2.3690875414068112e-06], 131: [-6.9009035229586333e-07], 44: [4.3670575506548145e-06], 185: [-5.7521734344352442e-06]}\n"
     ]
    },
    {
     "data": {
      "text/plain": [
       "\"\\na = pd.DataFrame({'data':range(10), 'data2': range(10,20)})\\nprint a\\nprint a.mean(axis=1)\\n    \\nprint means\\n\""
      ]
     },
     "execution_count": 70,
     "metadata": {},
     "output_type": "execute_result"
    }
   ],
   "source": [
    "import scipy.io as sio\n",
    "import pandas as pd\n",
    "\n",
    "pacientes = [\"P0\" + str(i) + \".mat\" for i in range(1,8)]\n",
    "electrodes = [8, 44, 80, 131, 185]\n",
    "sum_of_means_of_patients = dict.fromkeys(electrodes, [0 * 201])\n",
    "\n",
    "for paciente in pacientes:\n",
    "    for m in matrixes:\n",
    "        test = sio.loadmat(paciente)[\"data\"]\n",
    "        for electrode in electrodes:\n",
    "            dtf = pd.DataFrame(test[:,electrode,:])\n",
    "            sum_of_means_of_patients[electrode] = map(sum, zip(sum_of_means_of_patients[electrode], dtf.mean(axis = 1).values))\n",
    "             \n",
    "\n",
    "for electrode in electrodes:\n",
    "    means[electrode] = map(lambda a: a/len(pacientes), sum_of_means_of_patients[electrode])\n",
    "    \n",
    "print means\n",
    "    \n",
    "'''\n",
    "a = pd.DataFrame({'data':range(10), 'data2': range(10,20)})\n",
    "print a\n",
    "print a.mean(axis=1)\n",
    "    \n",
    "print means\n",
    "'''\n"
   ]
  },
  {
   "cell_type": "code",
   "execution_count": null,
   "metadata": {
    "collapsed": true
   },
   "outputs": [],
   "source": []
  }
 ],
 "metadata": {
  "kernelspec": {
   "display_name": "Python 2",
   "language": "python",
   "name": "python2"
  },
  "language_info": {
   "codemirror_mode": {
    "name": "ipython",
    "version": 2
   },
   "file_extension": ".py",
   "mimetype": "text/x-python",
   "name": "python",
   "nbconvert_exporter": "python",
   "pygments_lexer": "ipython2",
   "version": "2.7.12+"
  }
 },
 "nbformat": 4,
 "nbformat_minor": 2
}
