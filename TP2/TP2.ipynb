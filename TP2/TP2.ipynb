{
 "cells": [
  {
   "cell_type": "raw",
   "metadata": {},
   "source": [
    "Enunciado: https://gist.github.com/fraimondo/57990372c3c8a87c2c1bd290bffaa46f"
   ]
  },
  {
   "cell_type": "code",
   "execution_count": 9,
   "metadata": {},
   "outputs": [
    {
     "data": {
      "image/png": "[encoded data removed]",
      "text/plain": [
       "<matplotlib.figure.Figure at 0x7fa967bfa250>"
      ]
     },
     "metadata": {},
     "output_type": "display_data"
    }
   ],
   "source": [
    "import scipy.io as sio\n",
    "import scipy.signal as sig\n",
    "import pandas as pd\n",
    "import matplotlib.pyplot as plt\n",
    "\n",
    "\n",
    "pacientes = [\"P\" + str(i).zfill(2) + \".mat\" for i in range(1,10)]\n",
    "electrodes = [8, 44, 80, 131, 185]\n",
    "dtfspatient = None\n",
    "dtfs = []\n",
    "\n",
    "for paciente in pacientes:\n",
    "    test = sio.loadmat(paciente)[\"data\"]\n",
    "    for electrode in electrodes:\n",
    "        if (dtfspatient is None):\n",
    "            dtfspatient = pd.DataFrame(test[:,electrode,:])\n",
    "        else:\n",
    "            dtfspatient.add(pd.DataFrame(test[:,electrode,:]))\n",
    "            \n",
    "    dtfs.append(dtfspatient / len(electrodes))\n",
    "             \n",
    "means = (sum(dtfs)/len(pacientes))\n",
    "transforms = []\n",
    "X = []\n",
    "Y = []\n",
    "Z = []\n",
    "\n",
    "i = 0\n",
    "mx = 0\n",
    "for epoch in means.iterrows():\n",
    "    y, z = sig.welch(epoch[1].as_matrix())\n",
    "    X.append([i]*len(y))\n",
    "    Y.append(y)\n",
    "    Z.append(z)\n",
    "    mx = max(mx,max(z))\n",
    "    i += 1\n",
    "    \n",
    "\n",
    "plt.pcolor(X, Y, Z)\n",
    "plt.colorbar()\n",
    "plt.show()"
   ]
  },
  {
   "cell_type": "markdown",
   "metadata": {
    "collapsed": true
   },
   "source": [
    "# "
   ]
  },
  {
   "cell_type": "code",
   "execution_count": null,
   "metadata": {
    "collapsed": true
   },
   "outputs": [],
   "source": []
  },
  {
   "cell_type": "code",
   "execution_count": null,
   "metadata": {
    "collapsed": true
   },
   "outputs": [],
   "source": []
  }
 ],
 "metadata": {
  "kernelspec": {
   "display_name": "Python 2",
   "language": "python",
   "name": "python2"
  },
  "language_info": {
   "codemirror_mode": {
    "name": "ipython",
    "version": 2
   },
   "file_extension": ".py",
   "mimetype": "text/x-python",
   "name": "python",
   "nbconvert_exporter": "python",
   "pygments_lexer": "ipython2",
   "version": "2.7.12+"
  }
 },
 "nbformat": 4,
 "nbformat_minor": 2
}
